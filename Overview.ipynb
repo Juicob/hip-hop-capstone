{
 "metadata": {
  "language_info": {
   "codemirror_mode": {
    "name": "ipython",
    "version": 3
   },
   "file_extension": ".py",
   "mimetype": "text/x-python",
   "name": "python",
   "nbconvert_exporter": "python",
   "pygments_lexer": "ipython3",
   "version": 3
  },
  "orig_nbformat": 2
 },
 "nbformat": 4,
 "nbformat_minor": 2,
 "cells": [
  {
   "source": [
    "# Project Overview"
   ],
   "cell_type": "markdown",
   "metadata": {}
  },
  {
   "source": [
    "The goal of this project is to classify hip hop tracks into regional styles based on how they sound and their lyrical content.\n",
    "\n"
   ],
   "cell_type": "markdown",
   "metadata": {}
  },
  {
   "source": [
    "## Audio\n",
    "\n",
    "In order to classify music based on sound I gathered about 4000 mp3 files from multiple artists and labeled them by region choosing from East, West, Mid-West, and South.\n",
    "\n",
    "After gathering the files, I then converted each mp3 into a mel spectogram using [this script](https://github.com/Juicob/hip-hop-capstone/blob/main/explore%20and%20convert.py) I created.\n",
    "This process took roughly 18 hours to convert each audio file into a mel spectogram.\n",
    "\n",
    "After converting each file I began the process of creating a convolutional neural network to process these image files and predict the style in this [notebook](https://github.com/Juicob/hip-hop-capstone/blob/main/cnn.ipynb)\n",
    "\n",
    "My best model had an accuracy of 53% which is around twice as good as guessing. \n",
    "\n"
   ],
   "cell_type": "markdown",
   "metadata": {}
  },
  {
   "source": [
    "## Lyrics\n",
    "\n",
    "The other part of this project involved using natural language processing to go through text data in the form of lyrics of each song. \n",
    "\n",
    "In order to gather the lyrics and other data, I built a [scraper](https://github.com/Juicob/hip-hop-capstone/blob/main/lyrics-scraper/genius-scraper.py) with Selenium to gather data from genius.com. \n",
    "\n",
    "Gathering this data took about 8 hours to go through each artist, all their albums, and all their songs. I also included pauses within the script so as to not abuse their servers with heavy traffic.\n",
    "\n",
    "After collecting all the data, I began processing it and ended up using a random forest model to acheive an accuracy of 76% which you can view in this [notebook](https://github.com/Juicob/hip-hop-capstone/blob/main/nlp.ipynb). "
   ],
   "cell_type": "markdown",
   "metadata": {}
  },
  {
   "source": [
    "## Recommendations\n",
    "This analysis leads to four recommendations should you work to attain or improve upon the results of these models:\n",
    "\n",
    "### More data for CNN\n",
    "* While there were about 4 thousands images total given within the dataset. I believe that better results could be gathered if there was more data for the model to train on. CNN's will always benefit from more data as long as there are enough resources available to process it effectively.\n",
    "### Transfer Learning\n",
    "* Using transfer learning from a model that was pre-trained such as ResNet34 and BERT. Fine tuning will take considerably less time and resources and yield just as good if not better results from the right model.\n",
    "### Remove Featured Artists\n",
    "* Before converting files into spectograms, be more meticulous in scrubbing the data remove tracks featuring artists from other regions.\n",
    "### Clip Audio\n",
    "* Create spectograms containing only 45 seconds of audio data starting from 0:30 to 1:15 in order to reduce the resources needed to train your CNN. This time frame is likely to include most of the first verse and chorus which should be consistent to the rest of the tracks regional style."
   ],
   "cell_type": "markdown",
   "metadata": {}
  },
  {
   "source": [
    "## Next Steps\n",
    "\n",
    "Given more time I would look forward to implementing the following:\n",
    "\n",
    "### Model By Era\n",
    "* Segment predictions by era instead of datasets that encompass hip-hop from all time to see how it becomes more difficult as the genre grows.\n",
    "### Clustering\n",
    "* Use a clustering method allowing the model to identify styles and cross reference that with our own domain knowledge.\n",
    "### Map Visualization\n",
    "* Create a map to visualize the regions each artist and their tracks are from and compare it to where the the model predicts that it is from to discern patterns.\n"
   ],
   "cell_type": "markdown",
   "metadata": {}
  },
  {
   "source": [],
   "cell_type": "markdown",
   "metadata": {}
  }
 ]
}