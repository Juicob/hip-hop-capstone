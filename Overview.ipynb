{
 "metadata": {
  "language_info": {
   "codemirror_mode": {
    "name": "ipython",
    "version": 3
   },
   "file_extension": ".py",
   "mimetype": "text/x-python",
   "name": "python",
   "nbconvert_exporter": "python",
   "pygments_lexer": "ipython3",
   "version": 3
  },
  "orig_nbformat": 2
 },
 "nbformat": 4,
 "nbformat_minor": 2,
 "cells": [
  {
   "source": [
    "# Project Overview"
   ],
   "cell_type": "markdown",
   "metadata": {}
  },
  {
   "source": [
    "# Classifying Hip-Hop Tracks By Regional Style Using CNNs and NLP\n",
    "\n",
    "\n",
    "## Overview\n",
    "\n",
    "I love hip-hop.\n",
    "\n",
    "There's something about the headnodic beats and melodic exercise of word-smithing that furrows the brow and contorts the face in an expression of anguish that can only be acheived through a harmony of beats, rhymes, and life.\n",
    "\n",
    "You don't need to be a fan of hip-hop to experience the power of music. Stevie Wonder himself reminds us that it's, \"... a language we all understand.\" I happen to just have particular affinity for hip-hop, and I like many others, am able to discern where an artists comes from based on their style.\n",
    "\n",
    "This project is a journey into classifying hip hop based on regional styles using computer vision and natural language processing. \n",
    "\n",
    "Click on the dashboard below to go through an interactive storyboard of my project.\n",
    "\n",
    "[![hiphopregions storyboard](https://i.imgur.com/yZ1wOff.png)](https://app.powerbi.com/view?r=eyJrIjoiZjA3N2Q4YjItNjg3ZC00MzNhLTk5ZDEtZjBlMmE4OWU0MDJlIiwidCI6IjdkYTgxNGVmLWJkNGEtNDkzYy1hNTY3LTM3OGU0YzA4Y2VlOSIsImMiOjN9&pageName=ReportSection194d01d4807efd56979a)\n",
    "\n",
    "## Business Problem\n",
    "\n",
    "The goal of this project is to be able to classify music by regional style to then be used by streaming services or Digital Service Provider's (DSP's) to create more accurate sub-genre playlists that will better cater to their target audience. \n",
    "\n",
    "## Data\n",
    "\n",
    "The data consists of over 9000 lyrics and other features gathered from [Genius](genius.com) and my personal collection of artists discographies. After removing mix-tapes, and other tracks such as intros, outros, interludes, and skits, I ended up with almost 4000 tracks that I converted into mel spectograms to feed into the CNN. Here are a few samples of popular songs from each region shown below."
   ],
   "cell_type": "markdown",
   "metadata": {}
  },
  {
   "source": [
    "## Audio\n",
    "\n",
    "In order to classify music based on sound I gathered about 4000 mp3 files from multiple artists and labeled them by region choosing from East, West, Mid-West, and South.\n",
    "\n",
    "After gathering the files, I then converted each mp3 into a mel spectogram using [this script](https://github.com/Juicob/hip-hop-capstone/blob/main/explore%20and%20convert.py) I created.\n",
    "This process took roughly 18 hours to convert each audio file into a mel spectogram.\n",
    "\n",
    "After converting each file I began the process of creating a convolutional neural network to process these image files and predict the style in this [notebook](https://github.com/Juicob/hip-hop-capstone/blob/main/cnn.ipynb)\n",
    "\n",
    "My best model had an accuracy of 53% which is around twice as good as guessing. \n",
    "\n"
   ],
   "cell_type": "markdown",
   "metadata": {}
  },
  {
   "source": [
    "## Lyrics\n",
    "\n",
    "The other part of this project involved using natural language processing to go through text data in the form of lyrics of each song. \n",
    "\n",
    "In order to gather the lyrics and other data, I built a [scraper](https://github.com/Juicob/hip-hop-capstone/blob/main/lyrics-scraper/genius-scraper.py) with Selenium to gather data from genius.com. \n",
    "\n",
    "Gathering this data took about 8 hours to go through each artist, all their albums, and all their songs. I also included pauses within the script so as to not abuse their servers with heavy traffic.\n",
    "\n",
    "After collecting all the data, I began processing it and ended up using a random forest model to acheive an accuracy of 76% which you can view in this [notebook](https://github.com/Juicob/hip-hop-capstone/blob/main/nlp.ipynb). "
   ],
   "cell_type": "markdown",
   "metadata": {}
  },
  {
   "source": [
    "# Conclusion\n",
    "\n",
    "* Overall my models were able to learn from the training data and apply what it learned on new information. While the CNN had a harder time interpreting the audio data reaching an accuracy of 56%, the random forest model was able to more successfully classify lyrical content by region achieving an accuracy of 75%.\n",
    "\n",
    "* We were also able to explore the lyrics dataset I created seeing that the Mid-West and South seem the most popular regions based on track views. I would like to gather additional data and see if this still holds true.\n",
    "\n",
    "* There is still a lot more to be done in terms of gathering additional data, and tuning models, but this is a start to prove my assumption that there are noticeable differences in the regional styles of hip-hop."
   ],
   "cell_type": "markdown",
   "metadata": {}
  },
  {
   "source": [
    "## Recommendations\n",
    "This analysis leads to four recommendations should you work to attain or improve upon the results of these models:\n",
    "\n",
    "### More data for CNN\n",
    "* While there were about 4 thousands images total given within the dataset. I believe that better results could be gathered if there was more data for the model to train on. CNN's will always benefit from more data as long as there are enough resources available to process it effectively.\n",
    "### Transfer Learning\n",
    "* Using transfer learning from a model that was pre-trained such as ResNet34 and BERT. Fine tuning will take considerably less time and resources and yield just as good if not better results from the right model.\n",
    "### Remove Featured Artists\n",
    "* Before converting files into spectograms, be more meticulous in scrubbing the data remove tracks featuring artists from other regions.\n",
    "### Clip Audio\n",
    "* Create spectograms containing only 45 seconds of audio data starting from 0:30 to 1:15 in order to reduce the resources needed to train your CNN. This time frame is likely to include most of the first verse and chorus which should be consistent to the rest of the tracks regional style."
   ],
   "cell_type": "markdown",
   "metadata": {}
  },
  {
   "source": [
    "## Next Steps\n",
    "\n",
    "Given more time I would look forward to implementing the following:\n",
    "\n",
    "### Model By Era\n",
    "* Segment predictions by era instead of datasets that encompass hip-hop from all time to see how it becomes more difficult as the genre grows.\n",
    "### Clustering\n",
    "* Use a clustering method allowing the model to identify styles and cross reference that with our own domain knowledge.\n",
    "### Map Visualization\n",
    "* Create a map to visualize the regions each artist and their tracks are from and compare it to where the the model predicts that it is from to discern patterns.\n"
   ],
   "cell_type": "markdown",
   "metadata": {}
  },
  {
   "source": [],
   "cell_type": "markdown",
   "metadata": {}
  }
 ]
}